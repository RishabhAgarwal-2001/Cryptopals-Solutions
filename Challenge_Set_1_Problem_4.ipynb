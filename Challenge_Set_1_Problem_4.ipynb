{
 "cells": [
  {
   "cell_type": "markdown",
   "metadata": {},
   "source": [
    "    We will use the codes from previous assignment. Thus copying them as it is."
   ]
  },
  {
   "cell_type": "code",
   "execution_count": 1,
   "metadata": {},
   "outputs": [],
   "source": [
    "CHARACTER_FREQ = {\n",
    "    'a': 0.0651738, 'b': 0.0124248, 'c': 0.0217339, 'd': 0.0349835, 'e': 0.1041442, 'f': 0.0197881, 'g': 0.0158610,\n",
    "    'h': 0.0492888, 'i': 0.0558094, 'j': 0.0009033, 'k': 0.0050529, 'l': 0.0331490, 'm': 0.0202124, 'n': 0.0564513,\n",
    "    'o': 0.0596302, 'p': 0.0137645, 'q': 0.0008606, 'r': 0.0497563, 's': 0.0515760, 't': 0.0729357, 'u': 0.0225134,\n",
    "    'v': 0.0082903, 'w': 0.0171272, 'x': 0.0013692, 'y': 0.0145984, 'z': 0.0007836, ' ': 0.1918182\n",
    "}\n",
    "# plaintext parameter is a byte string and not character string\n",
    "def calculateEnglishScore(plaintext):\n",
    "    score = 0\n",
    "    for byte in  plaintext:\n",
    "        score = score + CHARACTER_FREQ.get(chr(byte).lower(), 0)\n",
    "    return score\n",
    "def calculateXOR(ciphertext, character):\n",
    "    result = b''#Declaring an empty byte string\n",
    "    for c in ciphertext:\n",
    "        result = result + bytes([(character)^(c)])\n",
    "    return result\n",
    "def decoder(ciphertext):\n",
    "    x = b''\n",
    "    highestScore = 0\n",
    "    for i in range(256):\n",
    "        result = calculateXOR(ciphertext, i)\n",
    "        score = calculateEnglishScore(result)\n",
    "        if(score>highestScore):\n",
    "            highestScore = score\n",
    "            x = result\n",
    "    return x, highestScore"
   ]
  },
  {
   "cell_type": "markdown",
   "metadata": {},
   "source": [
    "    Converting Each Line of file to bytes and calaculating score of each 60 characters long line.\n",
    "    Returning the string with maximum score."
   ]
  },
  {
   "cell_type": "code",
   "execution_count": 9,
   "metadata": {},
   "outputs": [],
   "source": [
    "# Converting each line into bytes\n",
    "def decoder2():\n",
    "    ciphertexts = [bytes.fromhex(line.strip()) for line in open(\"S1C04_input.txt\")]\n",
    "    highestScore = 0\n",
    "    result = b''\n",
    "    for lines in ciphertexts:\n",
    "        string, score = decoder(lines)\n",
    "        if(score > highestScore):\n",
    "            result = string\n",
    "            highestScore = score\n",
    "    return result, highestScore"
   ]
  },
  {
   "cell_type": "code",
   "execution_count": 12,
   "metadata": {},
   "outputs": [
    {
     "name": "stdout",
     "output_type": "stream",
     "text": [
      "b'Now that the party is jumping\\n'\n",
      "score =  2.0881317999999998\n"
     ]
    }
   ],
   "source": [
    "result , highestScore = decoder2()\n",
    "print(str(result))\n",
    "print(\"score = \",highestScore)"
   ]
  },
  {
   "cell_type": "code",
   "execution_count": null,
   "metadata": {},
   "outputs": [],
   "source": []
  }
 ],
 "metadata": {
  "kernelspec": {
   "display_name": "Python 3",
   "language": "python",
   "name": "python3"
  },
  "language_info": {
   "codemirror_mode": {
    "name": "ipython",
    "version": 3
   },
   "file_extension": ".py",
   "mimetype": "text/x-python",
   "name": "python",
   "nbconvert_exporter": "python",
   "pygments_lexer": "ipython3",
   "version": "3.6.7"
  }
 },
 "nbformat": 4,
 "nbformat_minor": 2
}
