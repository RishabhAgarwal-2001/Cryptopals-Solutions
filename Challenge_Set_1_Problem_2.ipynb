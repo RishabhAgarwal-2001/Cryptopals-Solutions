{
 "cells": [
  {
   "cell_type": "code",
   "execution_count": 1,
   "metadata": {},
   "outputs": [],
   "source": [
    "import codec"
   ]
  },
  {
   "cell_type": "code",
   "execution_count": 11,
   "metadata": {},
   "outputs": [
    {
     "name": "stdout",
     "output_type": "stream",
     "text": [
      "Give String 1 :1c0111001f010100061a024b53535009181c\n",
      "Give String 2 :686974207468652062756c6c277320657965\n",
      "0x746865206b696420646f6e277420706c6179\n"
     ]
    }
   ],
   "source": [
    "scale = 16\n",
    "hex1 = input(\"Give String 1 :\")\n",
    "hex2 = input(\"Give String 2 :\")\n",
    "x = int(hex1, 16)\n",
    "y = int(hex2, 16)\n",
    "z = x^y\n",
    "print(hex(z))"
   ]
  },
  {
   "cell_type": "code",
   "execution_count": null,
   "metadata": {},
   "outputs": [],
   "source": []
  }
 ],
 "metadata": {
  "kernelspec": {
   "display_name": "Python 3",
   "language": "python",
   "name": "python3"
  },
  "language_info": {
   "codemirror_mode": {
    "name": "ipython",
    "version": 3
   },
   "file_extension": ".py",
   "mimetype": "text/x-python",
   "name": "python",
   "nbconvert_exporter": "python",
   "pygments_lexer": "ipython3",
   "version": "3.6.7"
  }
 },
 "nbformat": 4,
 "nbformat_minor": 2
}
