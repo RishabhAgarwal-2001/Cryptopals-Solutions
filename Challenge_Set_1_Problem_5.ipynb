{
 "cells": [
  {
   "cell_type": "markdown",
   "metadata": {},
   "source": [
    "###### Utility Function to xor the key and plaintext together"
   ]
  },
  {
   "cell_type": "code",
   "execution_count": 1,
   "metadata": {},
   "outputs": [],
   "source": [
    "def xor(plaintext, key):\n",
    "    ciphertext = b''\n",
    "    i = 0\n",
    "    for byte in plaintext:\n",
    "        ciphertext = ciphertext + bytes([byte^key[i]])\n",
    "        i = i + 1\n",
    "        if(i==len(key)):\n",
    "            i = 0\n",
    "    return ciphertext"
   ]
  },
  {
   "cell_type": "markdown",
   "metadata": {},
   "source": [
    "###### Main Function that converts the input strings to bytes and then pass them to the xor function to get the desired ciphertext"
   ]
  },
  {
   "cell_type": "code",
   "execution_count": 17,
   "metadata": {},
   "outputs": [],
   "source": [
    "def main():\n",
    "    plaintext = input(\"Input the Plaintext to be Encrypted : \")\n",
    "    key = input(\"Key to be used while encrypting plaintext : \")\n",
    "    print((plaintext).encode('utf-8'))\n",
    "    ciphertext = xor((plaintext).encode('utf-8'), (key).encode('utf-8'))\n",
    "    print(str(hexlify(ciphertext), \"utf-8\"))"
   ]
  },
  {
   "cell_type": "code",
   "execution_count": 19,
   "metadata": {},
   "outputs": [
    {
     "name": "stdout",
     "output_type": "stream",
     "text": [
      "Input the Plaintext to be Encrypted : Burning 'em, if you ain't quick and nimble I go crazy when I hear a cymbal\n",
      "Key to be used while encrypting plaintext : ICE\n",
      "b\"Burning 'em, if you ain't quick and nimble I go crazy when I hear a cymbal\"\n",
      "0b3637272a2b2e63622c2e69692a23693a2a3c6324202d623d63343c2a26226324272765272a282b2f20690a652e2c652a3124333a653e2b2027630c692b20283165286326302e27282f\n"
     ]
    }
   ],
   "source": [
    "if(__name__==\"__main__\"):\n",
    "    main()"
   ]
  },
  {
   "cell_type": "code",
   "execution_count": null,
   "metadata": {},
   "outputs": [],
   "source": []
  }
 ],
 "metadata": {
  "kernelspec": {
   "display_name": "Python 3",
   "language": "python",
   "name": "python3"
  },
  "language_info": {
   "codemirror_mode": {
    "name": "ipython",
    "version": 3
   },
   "file_extension": ".py",
   "mimetype": "text/x-python",
   "name": "python",
   "nbconvert_exporter": "python",
   "pygments_lexer": "ipython3",
   "version": "3.6.7"
  }
 },
 "nbformat": 4,
 "nbformat_minor": 2
}
